{
 "cells": [
  {
   "cell_type": "markdown",
   "id": "db632844",
   "metadata": {},
   "source": [
    "# Example of training an anomaly detection to detect data outliers\n"
   ]
  },
  {
   "cell_type": "markdown",
   "id": "51825d98",
   "metadata": {},
   "source": [
    "### Description:\n",
    "The model to be trained have a task to calculte and display the probability of being a fault information (data instance inputed by the user).\n",
    "<br/>**NB:** you don't understand what's going on? visit the [Github Repository](link) for detailed information about the project."
   ]
  },
  {
   "cell_type": "markdown",
   "id": "e00d8551",
   "metadata": {},
   "source": [
    "## Dependancies"
   ]
  },
  {
   "cell_type": "code",
   "execution_count": 1,
   "id": "e34f9077",
   "metadata": {},
   "outputs": [],
   "source": [
    "import pandas as pd # for data analytics\n",
    "import numpy as np # for numerical computation\n",
    "from matplotlib import pyplot as plt, style # for ploting\n",
    "import seaborn as sns # for ploting\n",
    "from sklearn.metrics import fbeta_score, precision_score, recall_score, confusion_matrix # for evaluation\n",
    "import itertools\n",
    "\n",
    "style.use('ggplot')\n",
    "np.random.seed(42) "
   ]
  },
  {
   "cell_type": "markdown",
   "id": "82a4553e",
   "metadata": {},
   "source": [
    "### Example of dataset to sell to the user (entreprises side)\n",
    "the dataset is from [kaggle](https://www.kaggle.com/datasets/dev0914sharma/customer-clustering?select=segmentation+data.csv) website"
   ]
  },
  {
   "cell_type": "code",
   "execution_count": 2,
   "id": "ab0499a6",
   "metadata": {},
   "outputs": [
    {
     "data": {
      "text/html": [
       "<div>\n",
       "<style scoped>\n",
       "    .dataframe tbody tr th:only-of-type {\n",
       "        vertical-align: middle;\n",
       "    }\n",
       "\n",
       "    .dataframe tbody tr th {\n",
       "        vertical-align: top;\n",
       "    }\n",
       "\n",
       "    .dataframe thead th {\n",
       "        text-align: right;\n",
       "    }\n",
       "</style>\n",
       "<table border=\"1\" class=\"dataframe\">\n",
       "  <thead>\n",
       "    <tr style=\"text-align: right;\">\n",
       "      <th></th>\n",
       "      <th>ID</th>\n",
       "      <th>Sex</th>\n",
       "      <th>Marital status</th>\n",
       "      <th>Age</th>\n",
       "      <th>Education</th>\n",
       "      <th>Income</th>\n",
       "      <th>Occupation</th>\n",
       "      <th>Settlement size</th>\n",
       "    </tr>\n",
       "  </thead>\n",
       "  <tbody>\n",
       "    <tr>\n",
       "      <th>0</th>\n",
       "      <td>100000001</td>\n",
       "      <td>0</td>\n",
       "      <td>0</td>\n",
       "      <td>67</td>\n",
       "      <td>2</td>\n",
       "      <td>124670</td>\n",
       "      <td>1</td>\n",
       "      <td>2</td>\n",
       "    </tr>\n",
       "    <tr>\n",
       "      <th>1</th>\n",
       "      <td>100000002</td>\n",
       "      <td>1</td>\n",
       "      <td>1</td>\n",
       "      <td>22</td>\n",
       "      <td>1</td>\n",
       "      <td>150773</td>\n",
       "      <td>1</td>\n",
       "      <td>2</td>\n",
       "    </tr>\n",
       "    <tr>\n",
       "      <th>2</th>\n",
       "      <td>100000003</td>\n",
       "      <td>0</td>\n",
       "      <td>0</td>\n",
       "      <td>49</td>\n",
       "      <td>1</td>\n",
       "      <td>89210</td>\n",
       "      <td>0</td>\n",
       "      <td>0</td>\n",
       "    </tr>\n",
       "    <tr>\n",
       "      <th>3</th>\n",
       "      <td>100000004</td>\n",
       "      <td>0</td>\n",
       "      <td>0</td>\n",
       "      <td>45</td>\n",
       "      <td>1</td>\n",
       "      <td>171565</td>\n",
       "      <td>1</td>\n",
       "      <td>1</td>\n",
       "    </tr>\n",
       "    <tr>\n",
       "      <th>4</th>\n",
       "      <td>100000005</td>\n",
       "      <td>0</td>\n",
       "      <td>0</td>\n",
       "      <td>53</td>\n",
       "      <td>1</td>\n",
       "      <td>149031</td>\n",
       "      <td>1</td>\n",
       "      <td>1</td>\n",
       "    </tr>\n",
       "  </tbody>\n",
       "</table>\n",
       "</div>"
      ],
      "text/plain": [
       "          ID  Sex  Marital status  Age  Education  Income  Occupation  \\\n",
       "0  100000001    0               0   67          2  124670           1   \n",
       "1  100000002    1               1   22          1  150773           1   \n",
       "2  100000003    0               0   49          1   89210           0   \n",
       "3  100000004    0               0   45          1  171565           1   \n",
       "4  100000005    0               0   53          1  149031           1   \n",
       "\n",
       "   Settlement size  \n",
       "0                2  \n",
       "1                2  \n",
       "2                0  \n",
       "3                1  \n",
       "4                1  "
      ]
     },
     "execution_count": 2,
     "metadata": {},
     "output_type": "execute_result"
    }
   ],
   "source": [
    "dataset = pd.read_csv('../datasets/segmentation data.csv')\n",
    "dataset.head()"
   ]
  },
  {
   "cell_type": "markdown",
   "id": "913a1970",
   "metadata": {},
   "source": [
    "### Data preprocessing"
   ]
  },
  {
   "cell_type": "code",
   "execution_count": 3,
   "id": "084af9ca",
   "metadata": {},
   "outputs": [],
   "source": [
    "dataset = dataset.drop('ID', axis=1)\n",
    "\n",
    "dataset['Age'] = np.log(dataset['Age'] + 1)\n",
    "dataset['Income'] = np.log(dataset['Income'] + 1)\n",
    "\n",
    "from sklearn.preprocessing import StandardScaler, Normalizer\n",
    "\n",
    "scaler = StandardScaler()\n",
    "normalizer = Normalizer()\n",
    "\n",
    "# i'll use the normalizer\n",
    "X = normalizer.fit_transform(dataset)"
   ]
  },
  {
   "cell_type": "markdown",
   "id": "a1f12cf3",
   "metadata": {},
   "source": [
    "### Save the normalizer model as pickle file for future uses"
   ]
  },
  {
   "cell_type": "code",
   "execution_count": 6,
   "id": "252f5cd0",
   "metadata": {},
   "outputs": [],
   "source": [
    "import pickle\n",
    "\n",
    "pickle_out = open('../deployment/normalizer.pkl', 'wb')\n",
    "pickle.dump(normalizer, pickle_out)\n",
    "pickle_out.close()"
   ]
  },
  {
   "cell_type": "code",
   "execution_count": 7,
   "id": "33e116e6",
   "metadata": {},
   "outputs": [],
   "source": [
    "X = pd.DataFrame(X)"
   ]
  },
  {
   "cell_type": "markdown",
   "id": "ebb9b229",
   "metadata": {},
   "source": [
    "### Anomaly detection"
   ]
  },
  {
   "cell_type": "code",
   "execution_count": 8,
   "id": "5b8a6df5",
   "metadata": {},
   "outputs": [],
   "source": [
    "from scipy.stats import multivariate_normal\n",
    "\n",
    "mu = X.mean(axis=0)\n",
    "sigma = X.cov()\n",
    "\n",
    "model = multivariate_normal(cov=sigma, mean=mu)\n",
    "\n",
    "# predict probability of each instance\n",
    "probas = model.pdf(X)"
   ]
  },
  {
   "cell_type": "code",
   "execution_count": 9,
   "id": "618c0e97",
   "metadata": {},
   "outputs": [
    {
     "data": {
      "text/plain": [
       "65444665.36036694"
      ]
     },
     "execution_count": 9,
     "metadata": {},
     "output_type": "execute_result"
    }
   ],
   "source": [
    "#proba_max --> 100%\n",
    "max_proba = probas.max()\n",
    "max_proba"
   ]
  },
  {
   "cell_type": "markdown",
   "id": "a589f087",
   "metadata": {},
   "source": [
    "### Prediction\n",
    "**Note:** the problem i face in this step is that tere is a very big variance between probabilities values. i tried to normalize them using **Normalizer()** method, then scale them using **StandardScaler()** method but nothing changed.\n",
    "the max value of probability is "
   ]
  },
  {
   "cell_type": "code",
   "execution_count": 10,
   "id": "0add8742",
   "metadata": {},
   "outputs": [],
   "source": [
    "def predict_proba(x):\n",
    "    x[2] = np.log(x[2] + 1)\n",
    "    x[4] = np.log(x[4] + 1)\n",
    "    x = normalizer.fit_transform([x])\n",
    "    \n",
    "    p = model.pdf(x) / max_proba\n",
    "    return round(min(p*1000, 99), 3) #to display more readable probabilities"
   ]
  },
  {
   "cell_type": "code",
   "execution_count": 11,
   "id": "946d04cb",
   "metadata": {},
   "outputs": [
    {
     "name": "stdout",
     "output_type": "stream",
     "text": [
      "the input instance is accure with probability: 73.79%\n"
     ]
    }
   ],
   "source": [
    "# test\n",
    "sample = np.array([1, 1, 22, 1, 150773, 1, 2])\n",
    "print(f'the input instance is accure with probability: {predict_proba(sample)}%')"
   ]
  },
  {
   "cell_type": "markdown",
   "id": "e64cada1",
   "metadata": {},
   "source": [
    "### Save the model as pickle file (.pkl)"
   ]
  },
  {
   "cell_type": "code",
   "execution_count": 12,
   "id": "66e09656",
   "metadata": {},
   "outputs": [],
   "source": [
    "import pickle\n",
    "\n",
    "pickle_out = open('../deployment/model.pkl', 'wb')\n",
    "pickle.dump(model, pickle_out)\n",
    "pickle_out.close()"
   ]
  },
  {
   "cell_type": "markdown",
   "id": "b94eba4d",
   "metadata": {},
   "source": [
    "# End!"
   ]
  }
 ],
 "metadata": {
  "kernelspec": {
   "display_name": "Python 3 (ipykernel)",
   "language": "python",
   "name": "python3"
  },
  "language_info": {
   "codemirror_mode": {
    "name": "ipython",
    "version": 3
   },
   "file_extension": ".py",
   "mimetype": "text/x-python",
   "name": "python",
   "nbconvert_exporter": "python",
   "pygments_lexer": "ipython3",
   "version": "3.10.6"
  }
 },
 "nbformat": 4,
 "nbformat_minor": 5
}
